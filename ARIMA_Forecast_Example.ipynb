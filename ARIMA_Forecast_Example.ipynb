{
 "cells": [
  {
   "cell_type": "code",
   "execution_count": null,
   "id": "2e6f42d6",
   "metadata": {},
   "outputs": [],
   "source": [
    "# Import Required Libraries\n",
    "import numpy as np\n",
    "import matplotlib.pyplot as plt\n",
    "from statsmodels.tsa.arima.model import ARIMA"
   ]
  },
  {
   "cell_type": "code",
   "execution_count": null,
   "id": "b1b1edce",
   "metadata": {},
   "outputs": [],
   "source": [
    "# โมดูล: สร้างและเทรนโมเดล ARIMA\n",
    "\n",
    "def train_arima_model(x, order=(1, 1, 1)):\n",
    "    \"\"\"\n",
    "    สร้างและเทรนโมเดล ARIMA ด้วยข้อมูลที่รับเข้ามา\n",
    "    x: ข้อมูล time series (array)\n",
    "    order: ค่าพารามิเตอร์ (p, d, q) ของ ARIMA\n",
    "    return: โมเดลที่เทรนแล้ว\n",
    "    \"\"\"\n",
    "    model = ARIMA(x, order=order)\n",
    "    model_fit = model.fit()\n",
    "    return model_fit\n",
    "\n",
    "# โมดูล: ทำนายข้อมูลอนาคตด้วยโมเดล ARIMA\n",
    "\n",
    "def forecast_arima_model(model_fit, steps=10):\n",
    "    \"\"\"\n",
    "    ทำนายข้อมูลอนาคตด้วยโมเดล ARIMA ที่เทรนแล้ว\n",
    "    model_fit: โมเดล ARIMA ที่เทรนแล้ว\n",
    "    steps: จำนวนจุดข้อมูลที่ต้องการทำนาย\n",
    "    return: ค่าที่ทำนายได้\n",
    "    \"\"\"\n",
    "    forecast = model_fit.forecast(steps=steps)\n",
    "    return forecast\n",
    "\n",
    "# โมดูล: แสดงผลลัพธ์กราฟ\n",
    "\n",
    "def plot_arima_forecast(x, forecast, forecast_steps=10):\n",
    "    \"\"\"\n",
    "    แสดงกราฟข้อมูลจริงและค่าที่ทำนายได้\n",
    "    x: ข้อมูล time series เดิม\n",
    "    forecast: ค่าที่ทำนายได้\n",
    "    forecast_steps: จำนวนจุดข้อมูลที่ทำนาย\n",
    "    \"\"\"\n",
    "    plt.figure(figsize=(12, 6))\n",
    "    plt.plot(x, label='Original Data')\n",
    "    plt.plot(range(len(x), len(x) + forecast_steps), forecast, label='Forecast', color='red')\n",
    "    plt.title('ARIMA Forecast')\n",
    "    plt.xlabel('Time')\n",
    "    plt.ylabel('Value')\n",
    "    plt.legend()\n",
    "    plt.grid(True)\n",
    "    plt.show()\n",
    "    plt.savefig('ARIMA_Forecast.png', dpi=300, bbox_inches='tight', facecolor='white')\n",
    "    plt.close()"
   ]
  },
  {
   "cell_type": "markdown",
   "id": "a57159ad",
   "metadata": {},
   "source": [
    "## อธิบายโค้ดแต่ละบรรทัด (ภาษาไทย)\n",
    "\n",
    "**train_arima_model(x, order=(1,1,1))**\n",
    "- `def train_arima_model(x, order=(1, 1, 1)):`  ประกาศฟังก์ชันสำหรับสร้างและเทรนโมเดล ARIMA\n",
    "- `model = ARIMA(x, order=order)`  สร้างอ็อบเจกต์ ARIMA ด้วยข้อมูลและพารามิเตอร์ที่กำหนด\n",
    "- `model_fit = model.fit()`  เทรนโมเดล ARIMA กับข้อมูล\n",
    "- `return model_fit`  คืนค่าโมเดลที่เทรนแล้ว\n",
    "\n",
    "**forecast_arima_model(model_fit, steps=10)**\n",
    "- `def forecast_arima_model(model_fit, steps=10):`  ประกาศฟังก์ชันทำนายข้อมูลอนาคต\n",
    "- `forecast = model_fit.forecast(steps=steps)`  ทำนายข้อมูลอนาคตตามจำนวนที่กำหนด\n",
    "- `return forecast`  คืนค่าผลลัพธ์การทำนาย\n",
    "\n",
    "**plot_arima_forecast(x, forecast, forecast_steps=10)**\n",
    "- `def plot_arima_forecast(x, forecast, forecast_steps=10):`  ประกาศฟังก์ชันสำหรับ plot กราฟ\n",
    "- `plt.figure(figsize=(12, 6))`  สร้างกรอบกราฟขนาด 12x6 นิ้ว\n",
    "- `plt.plot(x, label='Original Data')`  plot ข้อมูลจริง\n",
    "- `plt.plot(range(len(x), len(x) + forecast_steps), forecast, label='Forecast', color='red')`  plot ข้อมูลที่ทำนายด้วยสีแดง\n",
    "- `plt.title('ARIMA Forecast')`  ใส่ชื่อกราฟ\n",
    "- `plt.xlabel('Time')`  ใส่ชื่อแกน x\n",
    "- `plt.ylabel('Value')`  ใส่ชื่อแกน y\n",
    "- `plt.legend()`  แสดงคำอธิบายเส้นกราฟ\n",
    "- `plt.grid(True)`  แสดงเส้น grid\n",
    "- `plt.show()`  แสดงกราฟ\n",
    "- `plt.savefig('ARIMA_Forecast.png', dpi=300, bbox_inches='tight', facecolor='white')`  บันทึกกราฟเป็นไฟล์ภาพ\n",
    "- `plt.close()`  ปิดกราฟ\n",
    "\n",
    "### การใช้ PyTorch ในการ plot\n",
    "- ในตัวอย่างนี้ เราสร้างข้อมูล time series ด้วย PyTorch (`torch.arange(1, 101)`) แล้วแปลงเป็น numpy (`x = x.numpy()`) เพื่อให้ใช้กับ ARIMA ได้\n",
    "- สามารถ plot ข้อมูล PyTorch ได้โดยตรงด้วย matplotlib เช่น `plt.plot(x)` ถ้า `x` เป็น tensor 1 มิติ\n",
    "- หากต้องการ plot ข้อมูล PyTorch โดยไม่แปลงเป็น numpy สามารถใช้ `x.cpu().numpy()` ได้เช่นกัน (กรณี tensor อยู่บน GPU)\n",
    "- ตัวอย่าง:\n",
    "```python\n",
    "import torch\n",
    "import matplotlib.pyplot as plt\n",
    "x = torch.arange(1, 101)\n",
    "plt.plot(x.numpy())  # หรือ plt.plot(x.cpu().numpy())\n",
    "plt.show()\n",
    "```"
   ]
  },
  {
   "cell_type": "markdown",
   "id": "7b2ec08e",
   "metadata": {},
   "source": [
    "## อธิบายโค้ดแต่ละโมดูล (ภาษาไทย)\n",
    "\n",
    "- `train_arima_model(x, order=(1,1,1))` :\n",
    "    - ฟังก์ชันนี้ใช้สำหรับสร้างและเทรนโมเดล ARIMA จากข้อมูล time series ที่รับเข้ามา\n",
    "    - สามารถกำหนดพารามิเตอร์ (p, d, q) ได้\n",
    "    - คืนค่าเป็นโมเดลที่เทรนแล้ว\n",
    "\n",
    "- `forecast_arima_model(model_fit, steps=10)` :\n",
    "    - ฟังก์ชันนี้ใช้สำหรับทำนายข้อมูลอนาคตจากโมเดล ARIMA ที่เทรนแล้ว\n",
    "    - สามารถกำหนดจำนวนจุดข้อมูลที่ต้องการทำนายได้\n",
    "    - คืนค่าผลลัพธ์การทำนาย\n",
    "\n",
    "- `plot_arima_forecast(x, forecast, forecast_steps=10)` :\n",
    "    - ฟังก์ชันนี้ใช้สำหรับแสดงกราฟข้อมูลจริงและค่าที่ทำนายได้\n",
    "    - แสดงผลทั้งข้อมูลเดิมและข้อมูลที่ทำนายด้วยสีต่างกัน\n",
    "    - สามารถบันทึกกราฟเป็นไฟล์ภาพได้"
   ]
  },
  {
   "cell_type": "markdown",
   "id": "19a9556a",
   "metadata": {},
   "source": [
    "สร้าง input time series ตรงนี้เป็น pytorch ได้"
   ]
  },
  {
   "cell_type": "code",
   "execution_count": null,
   "id": "37555d88",
   "metadata": {},
   "outputs": [],
   "source": [
    "# Generate Example Time Series Data using PyTorch\n",
    "import torch\n",
    "x = torch.arange(1, 101)  # Example input data as PyTorch tensor\n",
    "x = x.numpy()  # Convert to numpy array for ARIMA compatibility"
   ]
  },
  {
   "cell_type": "code",
   "execution_count": null,
   "id": "1a838647",
   "metadata": {},
   "outputs": [],
   "source": [
    "# Generate Example Time Series Data using numpy\n",
    "x_np = np.arange(1, 101)  # Example input data as numpy array"
   ]
  },
  {
   "cell_type": "code",
   "execution_count": null,
   "id": "fb6e470d",
   "metadata": {},
   "outputs": [],
   "source": [
    "# Run ARIMA Forecast and Plot Results\n",
    "forecast_arima(x)"
   ]
  },
  {
   "cell_type": "markdown",
   "id": "ddc77b5f",
   "metadata": {},
   "source": [
    "# ARIMA Time Series Forecasting Example\n",
    "\n",
    "This notebook demonstrates how to use the ARIMA model for time series forecasting using Python's `statsmodels` and `matplotlib` libraries."
   ]
  }
 ],
 "metadata": {
  "language_info": {
   "name": "python"
  }
 },
 "nbformat": 4,
 "nbformat_minor": 5
}
